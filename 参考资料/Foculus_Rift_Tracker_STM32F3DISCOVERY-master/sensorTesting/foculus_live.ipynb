{
 "metadata": {
  "name": "foculus_live"
 },
 "nbformat": 3,
 "nbformat_minor": 0,
 "worksheets": [
  {
   "cells": [
    {
     "cell_type": "markdown",
     "metadata": {},
     "source": [
      "Display an animated plot with live data from the foculus rift"
     ]
    },
    {
     "cell_type": "code",
     "collapsed": false,
     "input": [
      "import sys\n",
      "import usb.core\n",
      "import struct\n",
      "import matplotlib.animation as animation\n",
      "from mpl_toolkits.mplot3d import Axes3D, proj3d\n",
      "from matplotlib.patches import FancyArrowPatch\n",
      "from itertools import product, combinations\n",
      "#PRODUCT_ID = 0x5710\n",
      "PRODUCT_ID = 0x0001\n",
      "#HID requests:\n",
      "GET_REPORT = 1\n",
      "SET_REPORT = 9\n",
      "# Some RIFT packets\n",
      "datKeepAlive = (0x08, 0x00, 0x00, 0x10, 0x27)"
     ],
     "language": "python",
     "metadata": {},
     "outputs": [],
     "prompt_number": 9
    },
    {
     "cell_type": "heading",
     "level": 1,
     "metadata": {},
     "source": [
      "Step1, connect to device"
     ]
    },
    {
     "cell_type": "code",
     "collapsed": false,
     "input": [
      "usbD = usb.core.find( idProduct = PRODUCT_ID )\n",
      "if (usbD.is_kernel_driver_active(0)):\n",
      "    usbD.detach_kernel_driver(0)\n",
      "    print \"Kernel driver detached\"\n",
      "usbD.set_configuration()\n",
      "if usbD is not None:\n",
      "    print \"Connected!\""
     ],
     "language": "python",
     "metadata": {},
     "outputs": [
      {
       "output_type": "stream",
       "stream": "stdout",
       "text": [
        "Connected!\n"
       ]
      }
     ],
     "prompt_number": 10
    },
    {
     "cell_type": "code",
     "collapsed": false,
     "input": [
      "def datSetScaleGyro( scale ):\n",
      "    \"\"\"\n",
      "    scale is either 250, 500, 1000 or 2000\n",
      "    \"\"\"\n",
      "    datSetScale = [0x04, 0x00, 0x00, 8, scale&0xFF, scale>>8, 0xC4, 0x09] #Acc=8, Gyro=scale, Magn=2500\n",
      "    print usbD.ctrl_transfer( 0x21, SET_REPORT, 0x0304, 0, datSetScale)"
     ],
     "language": "python",
     "metadata": {},
     "outputs": [],
     "prompt_number": 11
    },
    {
     "cell_type": "code",
     "collapsed": false,
     "input": [
      "def unpackReading( rawSensorBlock ):\n",
      "    \"\"\"\n",
      "    The Rift IMU sensor values are 21 bit signed integers, packed in a datablock in a rather random order, here we unpack them\n",
      "    In:     8 byte raw datablock, containing X, Y, Z sensor values of Gyro or Acc\n",
      "    Out:    array of signed 32 bit integers, containing the 21 bit signed integers\n",
      "    Remark: Max range corresponds to:   - 1 048 576   ...   + 1 048 575\n",
      "    \"\"\"\n",
      "    readings = zeros(3, dtype=int32)\n",
      "    readings[0] = int32( rawSensorBlock[0]<<13  | rawSensorBlock[1]<<5 | rawSensorBlock[2]>>3 )\n",
      "    readings[1] = int32( (rawSensorBlock[2]&0x07)<<18 | rawSensorBlock[3]<<10 | rawSensorBlock[4]<<2 | rawSensorBlock[5]>>6 )\n",
      "    readings[2] = int32( (rawSensorBlock[5]&0x3F)<<15 | rawSensorBlock[6]<<7 | rawSensorBlock[7]>>1 )\n",
      "    for i in range(3):\n",
      "        #Check if sign extension is needed\n",
      "        if readings[i] >   0x00FFFFF:   #We have a negative number! Extend sign! (twos complement)\n",
      "            readings[i] -= 0x0200000\n",
      "    return readings"
     ],
     "language": "python",
     "metadata": {},
     "outputs": [],
     "prompt_number": 12
    },
    {
     "cell_type": "code",
     "collapsed": false,
     "input": [
      "def unpackRiftDataFrame( dat ):\n",
      "    \"\"\" \n",
      "    Takes a raw binary string as received over USB in dat\n",
      "    Then unpacks the data and returns them in a dict structure\n",
      "    The IMU sensor values are returned as floats, normalized to +- 1 \n",
      "    The absolute values depend on the current sensor scale setting\n",
      "    21 bit resolution for the Acc and Gyro, 12 bit resolution for the magnetometer\n",
      "    \"\"\"\n",
      "    #        Note:   Gyro and Acc are 21 bit signed integer.\n",
      "    #        Max range corresponds to:   - 1 048 576   ...   + 1 048 575\n",
      "    d = dict()\n",
      "    tempReading = unpackReading( dat[8:16] )\n",
      "    d[\"acceloX\"] = float(tempReading[0])/1E4\n",
      "    d[\"acceloY\"] = float(tempReading[1])/1E4\n",
      "    d[\"acceloZ\"] = float(tempReading[2])/1E4\n",
      "    tempReading = unpackReading( dat[16:25] )\n",
      "    d[\"gyroX\"] = float(tempReading[0])/1E4\n",
      "    d[\"gyroY\"] = float(tempReading[1])/1E4\n",
      "    d[\"gyroZ\"] = float(tempReading[2])/1E4\n",
      "    unpackedData = struct.unpack('<BBHHh16x16x16xhhh', dat)\n",
      "    d[\"ReportID\"] = unpackedData[0]\n",
      "    d[\"SampleCount\"] = unpackedData[1]\n",
      "    d[\"TimeStamp\"] = unpackedData[2]\n",
      "    d[\"CommandID\"] = unpackedData[3]\n",
      "    d[\"Temperature\"] = unpackedData[4]\n",
      "    d[\"magnetoX\"] = float(unpackedData[5])/1E4\n",
      "    d[\"magnetoY\"] = float(unpackedData[6])/1E4\n",
      "    d[\"magnetoZ\"] = float(unpackedData[7])/1E4\n",
      "    return d"
     ],
     "language": "python",
     "metadata": {},
     "outputs": [],
     "prompt_number": 13
    },
    {
     "cell_type": "code",
     "collapsed": false,
     "input": [
      "BUFFERSIZE = 1024*100\n",
      "readBuffer = zeros((9,BUFFERSIZE), dtype=float)\n",
      "iteration = 0\n",
      "writePointer = 0\n",
      "def stream( i ):\n",
      "    global readBuffer, plotLines, iteration, writePointer, datKeepAlive, ar\n",
      "    if (iteration+1)%50 == 0:\n",
      "        usbD.ctrl_transfer( 0x21, SET_REPORT, 0x0308, 0, datKeepAlive)\n",
      "    if writePointer >= BUFFERSIZE:\n",
      "        writePointer = 0\n",
      "    dat = usbD.read(0x81, 62, timeout=1000)\n",
      "    d = unpackRiftDataFrame( dat )\n",
      "    readBuffer[0, writePointer] = d[\"gyroX\"]/2/pi*360\n",
      "    readBuffer[1, writePointer] = d[\"gyroY\"]/2/pi*360\n",
      "    readBuffer[2, writePointer] = d[\"gyroZ\"]/2/pi*360\n",
      "    readBuffer[3, writePointer] = d[\"acceloX\"]\n",
      "    readBuffer[4, writePointer] = d[\"acceloY\"]\n",
      "    readBuffer[5, writePointer] = d[\"acceloZ\"]\n",
      "    readBuffer[6, writePointer] = d[\"magnetoX\"]\n",
      "    readBuffer[7, writePointer] = d[\"magnetoY\"]\n",
      "    readBuffer[8, writePointer] = d[\"magnetoZ\"]\n",
      "    iteration += 1\n",
      "    writePointer += 1\n",
      "    for i, plLine in enumerate(plotLines):\n",
      "        plLine.set_ydata(readBuffer[i, :])                     # update the data\n",
      "    #ar.updateCoordinates( [-d[\"magnetoX\"],d[\"magnetoX\"]], [-d[\"magnetoY\"],d[\"magnetoY\"]], [-d[\"magnetoZ\"],d[\"magnetoZ\"]] )"
     ],
     "language": "python",
     "metadata": {},
     "outputs": [],
     "prompt_number": 38
    },
    {
     "cell_type": "code",
     "collapsed": false,
     "input": [
      "class Arrow3D(FancyArrowPatch):\n",
      "    def __init__(self, xs, ys, zs, *args, **kwargs):\n",
      "        FancyArrowPatch.__init__(self, (0,0), (0,0), *args, **kwargs)\n",
      "        self._verts3d = xs, ys, zs\n",
      "\n",
      "    def draw(self, renderer):\n",
      "        xs3d, ys3d, zs3d = self._verts3d\n",
      "        xs, ys, zs = proj3d.proj_transform(xs3d, ys3d, zs3d, renderer.M)\n",
      "        self.set_positions((xs[0],ys[0]),(xs[1],ys[1]))\n",
      "        FancyArrowPatch.draw(self, renderer)\n",
      "    \n",
      "    def updateCoordinates(self, xs, ys, zs ):\n",
      "        self._verts3d = xs, ys, zs\n",
      "        show()"
     ],
     "language": "python",
     "metadata": {},
     "outputs": [],
     "prompt_number": 35
    },
    {
     "cell_type": "code",
     "collapsed": false,
     "input": [
      "fig, axs = subplots(3,1, sharex=True, figsize=(8,10))\n",
      "plotLines = list()\n",
      "for iSens in range(3):\n",
      "    for iAxis in range(3):\n",
      "        frequencyLine, = axs[iSens].plot(arange(BUFFERSIZE), rand(BUFFERSIZE), label=[\"X\", \"Y\", \"Z\"][iAxis])\n",
      "        plotLines.append( frequencyLine )\n",
      "    axs[iSens].axis((0, BUFFERSIZE, -1, 1))\n",
      "    axs[iSens].legend()\n",
      "    axs[iSens].grid(True)\n",
      "axs[0].set_ylabel(\"Gyroscope [deg/s]\")\n",
      "axs[1].set_ylabel(\"Accelerometer [m/s^2]\")\n",
      "axs[2].set_ylabel(\"Magnetometer [Gauss]\")\n",
      "\n",
      "#Setup arrowplot\n",
      "#fig2 = figure( figsize=(8,8) )\n",
      "#ax2 = fig2.gca( projection='3d' )\n",
      "#ar = Arrow3D([0,1],[0,1],[0,1], mutation_scale=20, lw=1, arrowstyle=\"-|>\", color=\"k\")\n",
      "#ax2.set_aspect( \"equal\" )\n",
      "#ax2.add_artist( ar )\n",
      "#max_range = 0.2\n",
      "#ax2.set_xlim(-max_range, max_range)\n",
      "#ax2.set_ylim(-max_range, max_range)\n",
      "#ax2.set_zlim(-max_range, max_range)\n",
      "#ax2.set_xlabel(\"X\")\n",
      "#ax2.set_ylabel(\"Y\")\n",
      "#ax2.set_zlabel(\"Z\")\n",
      "\n",
      "datSetScaleGyro( 250 )\n",
      "usbD.ctrl_transfer( 0x21, SET_REPORT, 0x0302, 0, [0x02, 0x00, 0x00, 0x00, 0x80, 0x10, 0x27])   #Send config frame, request 10 ms rate\n",
      "usbD.ctrl_transfer( 0x21, SET_REPORT, 0x0308, 0, datKeepAlive)\n",
      "line_ani = animation.FuncAnimation(fig, stream, interval=0x80)"
     ],
     "language": "python",
     "metadata": {},
     "outputs": [
      {
       "output_type": "stream",
       "stream": "stdout",
       "text": [
        "8\n"
       ]
      },
      {
       "output_type": "stream",
       "stream": "stderr",
       "text": [
        "Exception in Tkinter callback\n",
        "Traceback (most recent call last):\n",
        "  File \"/usr/lib/python2.7/lib-tk/Tkinter.py\", line 1473, in __call__\n",
        "    return self.func(*args)\n",
        "  File \"/usr/lib/python2.7/lib-tk/Tkinter.py\", line 534, in callit\n",
        "    func(*args)\n",
        "  File \"/usr/lib/pymodules/python2.7/matplotlib/backends/backend_tkagg.py\", line 141, in _on_timer\n",
        "    TimerBase._on_timer(self)\n",
        "  File \"/usr/lib/pymodules/python2.7/matplotlib/backend_bases.py\", line 1120, in _on_timer\n",
        "    ret = func(*args, **kwargs)\n"
       ]
      }
     ],
     "prompt_number": 39
    },
    {
     "cell_type": "code",
     "collapsed": false,
     "input": [
      "savez(\"longTimeOffsetBefore.npz\", readBuffer=readBuffer)"
     ],
     "language": "python",
     "metadata": {},
     "outputs": [],
     "prompt_number": 43
    },
    {
     "cell_type": "code",
     "collapsed": false,
     "input": [
      "gX = readBuffer[0,:]\n",
      "gY = readBuffer[1,:]\n",
      "gZ = readBuffer[2,:]"
     ],
     "language": "python",
     "metadata": {},
     "outputs": [],
     "prompt_number": 44
    },
    {
     "cell_type": "code",
     "collapsed": false,
     "input": [
      "plot(gX)"
     ],
     "language": "python",
     "metadata": {},
     "outputs": [
      {
       "output_type": "pyout",
       "prompt_number": 45,
       "text": [
        "[<matplotlib.lines.Line2D at 0x3be9690>]"
       ]
      }
     ],
     "prompt_number": 45
    },
    {
     "cell_type": "code",
     "collapsed": false,
     "input": [
      "plot(mean(gX.reshape((400,-1)), axis=1))"
     ],
     "language": "python",
     "metadata": {},
     "outputs": [
      {
       "output_type": "pyout",
       "prompt_number": 63,
       "text": [
        "[<matplotlib.lines.Line2D at 0x9f6df10>]"
       ]
      }
     ],
     "prompt_number": 63
    },
    {
     "cell_type": "code",
     "collapsed": false,
     "input": [],
     "language": "python",
     "metadata": {},
     "outputs": []
    }
   ],
   "metadata": {}
  }
 ]
}