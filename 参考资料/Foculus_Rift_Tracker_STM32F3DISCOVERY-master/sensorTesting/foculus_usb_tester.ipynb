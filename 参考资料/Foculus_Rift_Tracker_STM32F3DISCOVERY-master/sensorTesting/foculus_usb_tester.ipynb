{
 "metadata": {
  "name": "foculus_usb_tester"
 },
 "nbformat": 3,
 "nbformat_minor": 0,
 "worksheets": [
  {
   "cells": [
    {
     "cell_type": "markdown",
     "metadata": {},
     "source": [
      "Collection of some random stuff, which was useful to debug and reverse engineer the Oculus Rift Tracker USB communication protocol."
     ]
    },
    {
     "cell_type": "code",
     "collapsed": false,
     "input": [
      "import sys\n",
      "import usb.core\n",
      "import struct\n",
      "#PRODUCT_ID = 0x5710\n",
      "PRODUCT_ID = 0x0001\n",
      "#HID requests:\n",
      "GET_REPORT = 1\n",
      "SET_REPORT = 9\n",
      "\n",
      "def printHex( byteBlock ):\n",
      "    sys.stdout.write(\"\\n          0x00 0x01 0x02 0x03 0x04 0x05 0x06 0x07 0x08 0x09 0x0A 0x0B 0x0C 0x0D 0x0E 0x0F\")\n",
      "    sys.stdout.write(\"\\n         --------------------------------------------------------------------------------\")\n",
      "    sys.stdout.write(\"\\n0x000000| \")\n",
      "    for i,b in enumerate( byteBlock ):\n",
      "        sys.stdout.write( \"0x%02X \"%b )\n",
      "        if (i+1)%16 == 0:\n",
      "            sys.stdout.write(\"\\n0x%06X| \"%(i+1) )\n",
      "    sys.stdout.write(\"\\n\")"
     ],
     "language": "python",
     "metadata": {},
     "outputs": [],
     "prompt_number": 345
    },
    {
     "cell_type": "heading",
     "level": 1,
     "metadata": {},
     "source": [
      "Step1, connect to device"
     ]
    },
    {
     "cell_type": "code",
     "collapsed": false,
     "input": [
      "d = usb.core.find( idProduct = PRODUCT_ID )\n",
      "if (d.is_kernel_driver_active(0)):\n",
      "    d.detach_kernel_driver(0)\n",
      "    print \"Kernel driver detached\"\n",
      "d.set_configuration()\n",
      "if d is not None:\n",
      "    print \"Connected!\""
     ],
     "language": "python",
     "metadata": {},
     "outputs": [
      {
       "output_type": "stream",
       "stream": "stdout",
       "text": [
        "Kernel driver detached\n",
        "Connected!\n"
       ]
      },
      {
       "output_type": "stream",
       "stream": "stderr",
       "text": [
        "Exception usb.core.USBError: USBError(19, 'No such device (it may have been disconnected)') in <bound method Device.__del__ of <usb.core.Device object at 0x3f60450>> ignored\n"
       ]
      }
     ],
     "prompt_number": 346
    },
    {
     "cell_type": "heading",
     "level": 1,
     "metadata": {},
     "source": [
      "Setup scale"
     ]
    },
    {
     "cell_type": "code",
     "collapsed": false,
     "input": [
      "dat = d.ctrl_transfer( bmRequestType=0xA1, bRequest=GET_REPORT, wValue=0x0304, wIndex=0, data_or_wLength=100)\n",
      "print \"Scale Setting:\"\n",
      "printHex( dat )\n",
      "\n",
      "dat = d.ctrl_transfer( bmRequestType=0xA1, bRequest=GET_REPORT, wValue=0x0302, wIndex=0, data_or_wLength=100)\n",
      "print \"\\nConfig Setting:\"\n",
      "printHex( dat )"
     ],
     "language": "python",
     "metadata": {},
     "outputs": [
      {
       "output_type": "stream",
       "stream": "stdout",
       "text": [
        "Scale Setting:\n",
        "\n",
        "          0x00 0x01 0x02 0x03 0x04 0x05 0x06 0x07 0x08 0x09 0x0A 0x0B 0x0C 0x0D 0x0E 0x0F\n",
        "         --------------------------------------------------------------------------------\n",
        "0x000000| 0x04 0x00 0x00 0x08 0xE8 0x03 0xC4 0x09 \n",
        "\n",
        "Config Setting:\n",
        "\n",
        "          0x00 0x01 0x02 0x03 0x04 0x05 0x06 0x07 0x08 0x09 0x0A 0x0B 0x0C 0x0D 0x0E 0x0F\n",
        "         --------------------------------------------------------------------------------\n",
        "0x000000| 0x02 0x00 0x00 0x41 0x64 0x10 0x27 \n"
       ]
      }
     ],
     "prompt_number": 3
    },
    {
     "cell_type": "code",
     "collapsed": false,
     "input": [
      "#//static const UInt16 AccelRangeRamp[] = { 2, 4, 8, 16 };\n",
      "#//static const UInt16 GyroRangeRamp[]  = { 250, 500, 1000, 2000 };\n",
      "#//static const UInt16 MagRangeRamp[]   = { 880, 1300, 1900, 2500 };\n",
      "#------------------------------------\n",
      "accscale = 8                               #Fullscale = +- 8 G\n",
      "accFactor = 1.0/float(2**20) * accscale * 9.81  #This should give us +- 9.81 m/s^2 on earth\n",
      "gyroscale = 1000\n",
      "magnetoscale = 880\n",
      "sendIntervalMs = 1\n",
      "#------------------------------------\n",
      "datSetScale  = array([0x04, 0x00, 0x00, accscale&0xFF, gyroscale&0xFF, (gyroscale>>8)&0xFF, magnetoscale&0xFF, (magnetoscale>>8)&0xFF], dtype=uint8)\n",
      "datSetConfig = array([0x02, 0x00, 0x00, 0x00, sendIntervalMs&0xFF, 0xFF, 0xFF], dtype=uint8)\n",
      "print d.ctrl_transfer( 0x21, SET_REPORT, 0x0304, 0, datSetScale)\n",
      "print d.ctrl_transfer( 0x21, SET_REPORT, 0x0302, 0, datSetConfig)   #Send config frame, request 10 ms rate"
     ],
     "language": "python",
     "metadata": {},
     "outputs": [
      {
       "output_type": "stream",
       "stream": "stdout",
       "text": [
        "8\n",
        "7\n"
       ]
      }
     ],
     "prompt_number": 4
    },
    {
     "cell_type": "code",
     "collapsed": false,
     "input": [
      "def unpackReading( rawSensorBlock ):\n",
      "    \"\"\"\n",
      "    The Rift IMU sensor values are 21 bit signed integers, packed in a datablock in a rather random order, here we unpack them\n",
      "    In:     8 byte raw datablock, containing X, Y, Z sensor values of Gyro or Acc\n",
      "    Out:    array of signed 32 bit integers, containing the 21 bit signed integers\n",
      "    Remark: Max range corresponds to:   - 1 048 576   ...   + 1 048 575\n",
      "    \"\"\"\n",
      "    readings = zeros(3, dtype=int32)\n",
      "    readings[0] = int32( rawSensorBlock[0]<<13  | rawSensorBlock[1]<<5 | rawSensorBlock[2]>>3 )\n",
      "    readings[1] = int32( (rawSensorBlock[2]&0x07)<<18 | rawSensorBlock[3]<<10 | rawSensorBlock[4]<<2 | rawSensorBlock[5]>>6 )\n",
      "    readings[2] = int32( (rawSensorBlock[5]&0x3F)<<15 | rawSensorBlock[6]<<7 | rawSensorBlock[7]>>1 )\n",
      "    for i in range(3):\n",
      "        #Check if sign extension is needed\n",
      "        if readings[i] >   0x00FFFFF:   #We have a negative number! Extend sign! (twos complement)\n",
      "            readings[i] -= 0x0200000\n",
      "    return readings"
     ],
     "language": "python",
     "metadata": {},
     "outputs": [],
     "prompt_number": 5
    },
    {
     "cell_type": "code",
     "collapsed": false,
     "input": [
      "def unpackRiftDataFrame( frameString ):\n",
      "    \"\"\" \n",
      "    Takes the received binary data from the Rift tracker as a binary string\n",
      "    Returns a dictionary with the decoded infromations\n",
      "    Note:   Gyro and Acc are 21 bit signed integer.\n",
      "            Max range corresponds to:   - 1 048 576   ...   + 1 048 575\n",
      "    \"\"\"\n",
      "    unpackedData = struct.unpack('<BBHHh16B16B16Bhhh', frameString)\n",
      "    d = dict()\n",
      "    d[\"ReportID\"] = unpackedData[0]\n",
      "    d[\"SampleCount\"] = unpackedData[1]\n",
      "    d[\"TimeStamp\"] = unpackedData[2]\n",
      "    d[\"CommandID\"] = unpackedData[3]\n",
      "    d[\"Temperature\"] = unpackedData[4]\n",
      "    d[\"magnetoX\"] = unpackedData[-3]\n",
      "    d[\"magnetoY\"] = unpackedData[-2]\n",
      "    d[\"magnetoZ\"] = unpackedData[-1]\n",
      "    tempReading = unpackReading( unpackedData[5:21] )\n",
      "    d[\"acceloX\"] = tempReading[0]\n",
      "    d[\"acceloY\"] = tempReading[1]\n",
      "    d[\"acceloZ\"] = tempReading[2]\n",
      "    tempReading = unpackReading( unpackedData[8+5:8+21] )\n",
      "    d[\"gyroX\"] = tempReading[0]\n",
      "    d[\"gyroY\"] = tempReading[1]\n",
      "    d[\"gyroZ\"] = tempReading[2]\n",
      "    return d"
     ],
     "language": "python",
     "metadata": {},
     "outputs": [],
     "prompt_number": 6
    },
    {
     "cell_type": "heading",
     "level": 1,
     "metadata": {},
     "source": [
      "Check the absolute scale of the values"
     ]
    },
    {
     "cell_type": "code",
     "collapsed": false,
     "input": [
      "datKeepAlive = (0x08, 0x00, 0x00, 0xFF, 0xFF)\n",
      "d.ctrl_transfer( 0x21, SET_REPORT, 0x0308, 0, datKeepAlive)\n",
      "try:\n",
      "    dat = d.read(0x81, 64, timeout=1000)\n",
      "except:\n",
      "    print \"Nope\"\n",
      "rf = unpackRiftDataFrame( dat )\n",
      "acc = zeros(3, dtype=float)\n",
      "acc[0] = rf[\"acceloX\"]/float(10**4)\n",
      "acc[1] = rf[\"acceloY\"]/float(10**4)\n",
      "acc[2] = rf[\"acceloZ\"]/float(10**4)\n",
      "print acc\n",
      "print linalg.norm(acc)\n",
      "print \"temp = %d deg C\"%(rf[\"Temperature\"]*0.01)"
     ],
     "language": "python",
     "metadata": {},
     "outputs": [
      {
       "output_type": "stream",
       "stream": "stdout",
       "text": [
        "[ 0.     -7.2176  6.9038]\n",
        "9.98780277138\n",
        "temp = 24 deg C\n"
       ]
      }
     ],
     "prompt_number": 382
    },
    {
     "cell_type": "code",
     "collapsed": false,
     "input": [
      "%timeit d.read(0x81, 62)"
     ],
     "language": "python",
     "metadata": {},
     "outputs": [
      {
       "output_type": "stream",
       "stream": "stdout",
       "text": [
        "10 loops, best of 3: 100 ms per loop\n"
       ]
      },
      {
       "output_type": "stream",
       "stream": "stdout",
       "text": [
        "10 loops, best of 3: 100 ms per loop\n"
       ]
      },
      {
       "output_type": "stream",
       "stream": "stdout",
       "text": [
        "10 loops, best of 3: 100 ms per loop\n"
       ]
      }
     ],
     "prompt_number": 300
    },
    {
     "cell_type": "code",
     "collapsed": false,
     "input": [],
     "language": "python",
     "metadata": {},
     "outputs": []
    }
   ],
   "metadata": {}
  }
 ]
}